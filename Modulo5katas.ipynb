{
 "cells": [
  {
   "cell_type": "markdown",
   "metadata": {},
   "source": [
    "# Prueba tu aplicación\n",
    "Para probar el proyecto, ejecuta tu notebook. En la parte superior de vscode surgirá un cuadro de diálogo para que proporciones las distancias. Puede utilizar los datos de la tabla siguiente:\n",
    "\n",
    "Planeta-----------Distancia al sol\n",
    "\n",
    "Mercurio------------57900000\n",
    "\n",
    "Venus---------------108200000\n",
    "\n",
    "Tierra---------------149600000\n",
    "\n",
    "Marte---------------227900000\n",
    "\n",
    "Júpiter--------------778600000\n",
    "\n",
    "Saturno------------ 1433500000\n",
    "\n",
    "Urano---------------2872500000\n",
    "\n",
    "Neptuno------------4495100000"
   ]
  },
  {
   "cell_type": "markdown",
   "metadata": {},
   "source": [
    "# EJERCICIO 1\n",
    "Exploremos cómo podemos crear un programa que pueda calcular la distancia entre dos planetas.\n",
    "\n",
    "Comenzaremos usando dos distancias de planetas: Tierra (149.597.870 km) y Júpiter (778.547.200 km)."
   ]
  },
  {
   "cell_type": "code",
   "execution_count": 26,
   "metadata": {},
   "outputs": [
    {
     "name": "stdout",
     "output_type": "stream",
     "text": [
      "628949330 Km's\n",
      "390577534  Millas\n"
     ]
    }
   ],
   "source": [
    "tierra = 149597870\n",
    "jupiter = 778547200\n",
    "\n",
    "dis = (abs(tierra - jupiter))\n",
    "dis_mi = (dis*0.621)\n",
    "print(str(dis) + (\" Km's\"))\n",
    "print(str(round(dis_mi)) + (\"  Millas\"))"
   ]
  },
  {
   "cell_type": "markdown",
   "metadata": {},
   "source": [
    "# EJERCICIO 2\n",
    "convierte cadenas en números y usa valores absolutos.\n",
    "\n",
    "Crear una aplicación para trabajar con números y entrada de usuario"
   ]
  },
  {
   "cell_type": "code",
   "execution_count": null,
   "metadata": {},
   "outputs": [],
   "source": [
    "planeta_1 = int(input(\"distancia 1: \"))\n",
    "plantea_2 = int(input(\"distancia 2: \"))\n",
    "\n",
    "distancia = (abs(planeta_1-plantea_2))\n",
    "distancia_mi = distancia*0.621\n",
    "\n",
    "print(str(distancia) + \" km\")\n",
    "print(str(distancia_mi) + \" millas\")"
   ]
  }
 ],
 "metadata": {
  "interpreter": {
   "hash": "e2685cf6acc10010ed3a42ba68e328172b7ac64d18dddbd782f36d15be365245"
  },
  "kernelspec": {
   "display_name": "Python 3.10.2 64-bit",
   "language": "python",
   "name": "python3"
  },
  "language_info": {
   "codemirror_mode": {
    "name": "ipython",
    "version": 3
   },
   "file_extension": ".py",
   "mimetype": "text/x-python",
   "name": "python",
   "nbconvert_exporter": "python",
   "pygments_lexer": "ipython3",
   "version": "3.10.2"
  },
  "orig_nbformat": 4
 },
 "nbformat": 4,
 "nbformat_minor": 2
}
