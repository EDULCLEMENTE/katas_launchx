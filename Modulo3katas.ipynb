{
 "cells": [
  {
   "cell_type": "markdown",
   "metadata": {},
   "source": [
    "Para este ejercicio, escribirás una lógica condicional que imprima una advertencia si un asteroide se acerca a la Tierra demasiado rápido. La velocidad del asteroide varía dependiendo de lo cerca que esté del sol, y cualquier velocidad superior a 25 kilómetros por segundo (km/s) merece una advertencia.\n",
    "\n",
    "Un asteroide se acerca, y viaja a una velocidad de 49 km/s."
   ]
  },
  {
   "cell_type": "code",
   "execution_count": 1,
   "metadata": {},
   "outputs": [
    {
     "name": "stdout",
     "output_type": "stream",
     "text": [
      "TODO ESTA BIEN POR EL MOMENTO, PUEDES CONTINUAR CON L0 TUYO\n"
     ]
    }
   ],
   "source": [
    "velocidad_del_asteroide = int(input(\"¿QUE VELOCIDAD TIENE EL ASTEROIDE? \"))\n",
    "if velocidad_del_asteroide > 25:\n",
    "    print(\"¡ADVERTENCIA, SE ACERCA UN ASTEROIDE!\")\n",
    "else:\n",
    "    print(\"TODO ESTA BIEN POR EL MOMENTO, PUEDES CONTINUAR CON L0 TUYO\")"
   ]
  },
  {
   "cell_type": "markdown",
   "metadata": {},
   "source": [
    "Si un asteroide entra en la atmósfera de la Tierra a una velocidad mayor o igual a 20 km/s, a veces produce un rayo de luz que se puede ver desde la Tierra. Escribe la lógica condicional que usa declaraciones if, else, y elif para alertar a las personas de todo el mundo que deben buscar un asteroide en el cielo. ¡Hay uno que se dirige a la tierra ahora a una velocidad de 19 km/s!"
   ]
  },
  {
   "cell_type": "code",
   "execution_count": null,
   "metadata": {},
   "outputs": [],
   "source": [
    "velocidad_del_asteroide=int(input(\"¿QUE VELOCIDAD TIENE EL ASTEROIDE? \"))\n",
    "if velocidad_del_asteroide >= 20:\n",
    "    print(\"¡HAY UNA LUZ EN EL CIELO!\")\n",
    "else:\n",
    "    print(\"no hay nada, continua con lo tuyo\")"
   ]
  },
  {
   "cell_type": "markdown",
   "metadata": {},
   "source": [
    "En este ejercicio, aprenderás información más matizada sobre cuándo los asteroides representan un peligro para la Tierra, y utilizarás esa información para mejorar nuestro sistema de advertencia. Aquí está la nueva información que necesitas saber:\n",
    "\n",
    "*Los asteroides de menos de 25 metros en su dimensión más grande probablemente se quemarán a medida que entren en la atmósfera de la Tierra.\n",
    "\n",
    "Si una pieza de un asteroide que es más grande que 25 metros pero más pequeña que 1000 metros golpeara la Tierra, causaría mucho daño.\n",
    "También discutimos en el ejercicio anterior que:\n",
    "\n",
    "La velocidad del asteroide varía en función de lo cerca que esté del sol, y cualquier velocidad superior a 25 kilómetros por segundo (km/s) merece una advertencia.\n",
    "Si un asteroide entra en la atmósfera de la Tierra a una velocidad mayor o igual a 20 km/s, a veces produce un rayo de luz que se puede ver desde la Tierra."
   ]
  },
  {
   "cell_type": "code",
   "execution_count": null,
   "metadata": {},
   "outputs": [],
   "source": [
    "tamaño_del_asteroide = int(input(\"¿QUE TAMAÑO TIENE EL ASTEROIDE (mts)? \"))\n",
    "velocidad_del_asteroide=int(input(\"¿QUE VELOCIDAD TIENE EL ASTEROIDE (km/s)? \"))\n",
    "\n",
    "if 1000 > tamaño_del_asteroide > 25 and velocidad_del_asteroide > 25:\n",
    "    print(\"¡SE ACERCA UN ASTERIODE MUY PELIGROSO!\")\n",
    "elif tamaño_del_asteroide > 1000:\n",
    "    print(\"DESPIDETE DE TODOS, SE ACERCA UN ASTERIODE GIGANTESCO\")\n",
    "elif velocidad_del_asteroide >= 20:\n",
    "    print(\"HAY UNA LUZ EN EL CIELO\")\n",
    "else:\n",
    "    print(\"¡NO HAY NADA, SIGUE EN LO TUYO!\")"
   ]
  }
 ],
 "metadata": {
  "interpreter": {
   "hash": "e2685cf6acc10010ed3a42ba68e328172b7ac64d18dddbd782f36d15be365245"
  },
  "kernelspec": {
   "display_name": "Python 3.10.2 64-bit",
   "language": "python",
   "name": "python3"
  },
  "language_info": {
   "codemirror_mode": {
    "name": "ipython",
    "version": 3
   },
   "file_extension": ".py",
   "mimetype": "text/x-python",
   "name": "python",
   "nbconvert_exporter": "python",
   "pygments_lexer": "ipython3",
   "version": "3.10.2"
  },
  "orig_nbformat": 4
 },
 "nbformat": 4,
 "nbformat_minor": 2
}
